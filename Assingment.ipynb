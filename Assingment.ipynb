{
 "cells": [
  {
   "cell_type": "code",
   "execution_count": null,
   "metadata": {
    "vscode": {
     "languageId": "java"
    }
   },
   "outputs": [],
   "source": [
    "public class assignment\n",
    "{\n",
    "    public Numbers(){\n",
    "\n",
    "    }\n",
    "\n",
    "public static void(String args[])\n",
    "{\n",
    "    int count, sum=0;\n",
    "    for(int x=1; x<=50; x++)\n",
    "{ \n",
    "    count=0;\n",
    "    for(int i=2; i<=x/2; i++)\n",
    "{\n",
    "    if(x % 2 ==0)\n",
    "{\n",
    "    count++;\n",
    "    break;\n",
    "}\n",
    "}\n",
    "System.out(\"Sum of prime numbers from  1 to 50 is:\" +sum);\n",
    "}\n",
    "\n",
    "@Override\n",
    "public String toString(){\n",
    "    return \"Numbers[]\";\n",
    "}\n",
    "}\n",
    "}\n",
    "By Sabtiwu Tamimu(10953049)"
   ]
  },
  {
   "cell_type": "code",
   "execution_count": null,
   "metadata": {},
   "outputs": [],
   "source": []
  },
  {
   "cell_type": "markdown",
   "metadata": {},
   "source": []
  }
 ],
 "metadata": {
  "language_info": {
   "name": "python"
  },
  "orig_nbformat": 4
 },
 "nbformat": 4,
 "nbformat_minor": 2
}
